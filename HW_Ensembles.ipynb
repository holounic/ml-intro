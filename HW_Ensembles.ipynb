{
 "cells": [
  {
   "cell_type": "markdown",
   "metadata": {},
   "source": [
    "# Случайные леса\n",
    "__Суммарное количество баллов: 10__\n",
    "\n",
    "В этом задании вам предстоит реализовать ансамбль деревьев решений, известный как случайный лес, применить его к публичным данным и сравнить его эффективность с ансамблями из самых популярных библиотек."
   ]
  },
  {
   "cell_type": "code",
   "execution_count": 1,
   "metadata": {},
   "outputs": [],
   "source": [
    "from sklearn.model_selection import train_test_split\n",
    "from sklearn.metrics import f1_score\n",
    "import numpy as np\n",
    "import pandas as pd\n",
    "import random\n",
    "import matplotlib.pyplot as plt\n",
    "import matplotlib\n",
    "import copy\n",
    "from scipy import stats\n",
    "\n",
    "random.seed(0)"
   ]
  },
  {
   "cell_type": "markdown",
   "metadata": {},
   "source": [
    "Реализуем сам Random Forest. Идея очень простая: строим `n` деревьев, а затем берем модальное предсказание. Используйте реализацию дерева из HW3.\n",
    "\n",
    "#### Параметры конструктора\n",
    "`n_estimators` - количество используемых для предсказания деревьев.\n",
    "\n",
    "Остальное - параметры деревьев.\n",
    "\n",
    "#### Методы\n",
    "`fit(X, y)` - строит `n_estimators` деревьев по выборке `X`.\n",
    "\n",
    "`predict(X)` - для каждого элемента выборки `X` возвращает самый частый класс, который предсказывают для него деревья."
   ]
  },
  {
   "cell_type": "code",
   "execution_count": 2,
   "metadata": {},
   "outputs": [],
   "source": [
    "def get_probs(x):\n",
    "    x = np.array(x)\n",
    "    frequencies = np.asarray(np.unique(x, return_counts=True)).T # [[element, n_elemenets], ...]\n",
    "    cardinal = len(x)\n",
    "    return np.array(list(map(lambda info : info[1] / cardinal, frequencies)))                     \n",
    "\n",
    "def gini(x):\n",
    "    p = get_probs(x)\n",
    "    return np.sum(p * (1 - p))\n",
    "    \n",
    "def entropy(x):\n",
    "    p = get_probs(x)\n",
    "    return - np.sum(p * np.log2(p))\n",
    "\n",
    "def gain(left_y, right_y, criterion):\n",
    "    n_left = len(left_y)\n",
    "    n_right = len(right_y)\n",
    "    n_total = n_left + n_right\n",
    "    \n",
    "    return 1 - (n_right / n_total) * criterion(right_y) - (n_left / n_total) * criterion(left_y)"
   ]
  },
  {
   "cell_type": "code",
   "execution_count": 129,
   "metadata": {},
   "outputs": [],
   "source": [
    "class DecisionTreeLeaf:\n",
    "    def __init__(self):\n",
    "        self.y = None\n",
    "        self.frequencies = None\n",
    "        \n",
    "    def get_probs(self):\n",
    "        total = sum(f for (_, f) in self.frequencies)\n",
    "        return {class_name : frequency / total for (class_name, frequency) in self.frequencies}\n",
    "\n",
    "class DecisionTreeNode(DecisionTreeLeaf):\n",
    "    def __init__(self, split_dim, split_value, left, right):\n",
    "        super().__init__()\n",
    "        self.split_dim = split_dim\n",
    "        self.split_value = split_value\n",
    "        self.left = left\n",
    "        self.right = right\n",
    "        self.all = None\n",
    "\n",
    "def get_most_frequent_class(y):\n",
    "    frequency = sorted(np.transpose(np.unique(np.array(y), return_counts=True)), key=lambda a: a[1])\n",
    "    return frequency[-1][0], frequency\n",
    "\n",
    "class DecisionTreeClassifier:\n",
    "    def __init__(self, criterion=\"gini\", max_depth=None, min_samples_leaf=1):\n",
    "        self.root = None\n",
    "        self.criterion = gini if criterion == \"gini\" else entropy\n",
    "        self.max_depth = max_depth if max_depth is not None else float(\"inf\")\n",
    "        self.node_id = 0\n",
    "        self.min_samples_leaf = min_samples_leaf\n",
    "        \n",
    "    def _build_leaf(self, y):\n",
    "        leaf = DecisionTreeLeaf()\n",
    "        leaf.y, leaf.frequencies = get_most_frequent_class(y)\n",
    "        return leaf\n",
    "        \n",
    "    def _train(self, X, y, cur_depth):\n",
    "        cur_node = None\n",
    "        if cur_depth > self.max_depth or len(X) <= self.min_samples_leaf:\n",
    "            cur_node = DecisionTreeLeaf()\n",
    "            cur_node.y, cur_node.frequencies = get_most_frequent_class(y)\n",
    "            return cur_node\n",
    "        max_q, best_dim, best_val, best_left_S, best_right_S = float(\"-inf\"), None, None, None, None\n",
    "        unique_values_per_dim = [np.sort(np.unique(row)) for row in np.transpose(X)]\n",
    "        \n",
    "        for dim, unique in enumerate(unique_values_per_dim):\n",
    "            if len(unique) == 1:\n",
    "                continue\n",
    "            \n",
    "            split_val = unique[len(unique) // 2]\n",
    "            left_S = [(x, y_dot) for (x, y_dot) in zip(X, y) if x[dim] < split_val]\n",
    "            right_S = [(x, y_dot) for (x, y_dot) in zip(X, y) if x[dim] >= split_val]\n",
    "            \n",
    "            left_X, left_y = zip(*left_S)\n",
    "            right_X, right_y = zip(*right_S)\n",
    "                  \n",
    "            ratio_left = len(left_X) / len(right_X)\n",
    "            ratio_right = len(right_X) / len(left_X)\n",
    "            \n",
    "            q = gain(left_y, right_y, self.criterion)\n",
    "            if q > max_q:\n",
    "                max_q = q\n",
    "                best_dim = dim\n",
    "                best_val = split_val\n",
    "                best_left_S = left_S\n",
    "                best_right_S = right_S\n",
    "        \n",
    "        if best_right_S is None or best_left_S is None:\n",
    "            return self._build_leaf(y)\n",
    "        \n",
    "        best_right_X, best_right_y = zip(*best_right_S)\n",
    "        best_left_X, best_left_y = zip(*best_left_S)\n",
    "        \n",
    "        left = self._train(best_left_X, best_left_y, cur_depth + 1)\n",
    "        right = self._train(best_right_X, best_right_y, cur_depth + 1)\n",
    "        \n",
    "        cur_node = DecisionTreeNode(best_dim, best_val, left, right)\n",
    "        cur_node.y = get_most_frequent_class(y)\n",
    "        return cur_node\n",
    "        \n",
    "    \n",
    "    def fit(self, X, y):\n",
    "        X, y = zip(*sorted(zip(X, y)))\n",
    "        self.root = self._train(X, y, 0)\n",
    "    \n",
    "    def predict_proba(self, X):\n",
    "        return [self._find_leaf(x).get_probs() for x in X]\n",
    "        \n",
    "    def _find_leaf(self, x):\n",
    "        cur_node = self.root\n",
    "        while isinstance(cur_node, DecisionTreeNode):\n",
    "            if x[cur_node.split_dim] < cur_node.split_value:\n",
    "                cur_node = cur_node.left\n",
    "            else:\n",
    "                cur_node = cur_node.right\n",
    "        return cur_node\n",
    "    \n",
    "    def predict(self, X):\n",
    "        proba = self.predict_proba(X)\n",
    "        return [max(p.keys(), key=lambda k: p[k]) for p in proba]"
   ]
  },
  {
   "cell_type": "code",
   "execution_count": 138,
   "metadata": {},
   "outputs": [],
   "source": [
    "def cut_columns(X, columns_to_cut, axis=0):\n",
    "    if isinstance(X, pd.DataFrame):\n",
    "        return X.drop(columns_to_cut, axis=axis, inplace=False)\n",
    "    return np.delete(X, columns_to_cut, axis)\n",
    "\n",
    "def cut_rows(X, y, ratio=0.1):\n",
    "    idx = random.sample(list(range(len(X))), int(ratio * len(X)))\n",
    "    if isinstance(X, pd.DataFrame):\n",
    "        X = X.drop(idx, axis=0)\n",
    "        y = y.drop(idx, axis=0)\n",
    "    else:\n",
    "        X = np.delete(X, idx, 0)\n",
    "        y = np.delete(y, idx, 0)\n",
    "    return X, y, idx\n",
    "\n",
    "class DecisionTreeWrapper:\n",
    "    def __init__(self, **tree_kwargs):\n",
    "        self.tree = DecisionTreeClassifier(**tree_kwargs)\n",
    "        self.removed_columns = []\n",
    "        self.unseen_samples = []\n",
    "    \n",
    "    def predict(self, X):\n",
    "        X = cut_columns(X, self.removed_columns, 1)\n",
    "        if isinstance(X, pd.DataFrame):\n",
    "            X = X.values\n",
    "        X = X.tolist()\n",
    "        return self.tree.predict(X)\n",
    "    \n",
    "    def fit(self, X, y, max_features=\"auto\", drop_columns=True, drop_rows=True):\n",
    "        if max_features == \"auto\":\n",
    "            max_features = float(\"inf\")\n",
    "            \n",
    "        if drop_columns:\n",
    "            self.removed_columns = random.sample(range(len(X[0])), min(len(X[0]) // 6, max_features))\n",
    "            X = cut_columns(X, self.removed_columns, 1)\n",
    "        if drop_rows:\n",
    "            X, y, self.unseen_samples = cut_rows(X, y)\n",
    "        if isinstance(X, pd.DataFrame):\n",
    "            X = X.values\n",
    "            y = y.values\n",
    "        X = X.tolist()\n",
    "        y = y.tolist()\n",
    "        self.tree.fit(X, y)"
   ]
  },
  {
   "cell_type": "code",
   "execution_count": 139,
   "metadata": {},
   "outputs": [],
   "source": [
    "class RandomForestClassifier:\n",
    "    def __init__(self, criterion=\"gini\", max_depth=None, min_samples_leaf=1, max_features=\"auto\", n_estimators=10, drop_columns=True, drop_rows=True):\n",
    "        self.trees = [DecisionTreeWrapper(criterion=criterion, max_depth=max_depth, min_samples_leaf=min_samples_leaf) for _ in range(n_estimators)]\n",
    "        self.max_features = max_features\n",
    "        self.drop_columns = drop_columns\n",
    "        self.drop_rows = drop_rows\n",
    "    \n",
    "    def fit(self, X, y):\n",
    "        for tree in self.trees:\n",
    "            tree.fit(copy.copy(X), y, max_features=self.max_features, \n",
    "                     drop_columns=self.drop_columns, drop_rows=self.drop_rows)\n",
    "    \n",
    "    def predict(self, X):\n",
    "        predictions = [tree.predict(X) for tree in self.trees]\n",
    "        return stats.mode(predictions, axis=0).mode[0]"
   ]
  },
  {
   "cell_type": "markdown",
   "metadata": {},
   "source": [
    "### Задание 3 (2 балла)\n",
    "Оптимизируйте по `AUC` на кроссвалидации (размер валидационной выборки - 20%) параметры своей реализации `Random Forest`: \n",
    "\n",
    "максимальную глубину деревьев из [2, 3, 5, 7, 10], количество деревьев из [5, 10, 20, 30, 50, 100]. \n",
    "\n",
    "Постройте `ROC` кривую (и выведите `AUC` и `accuracy`) для лучшего варианта.\n",
    "\n",
    "Подсказка: можно построить сразу 100 деревьев глубины 10, а потом убирать деревья и\n",
    "глубину."
   ]
  },
  {
   "cell_type": "code",
   "execution_count": 140,
   "metadata": {},
   "outputs": [],
   "source": [
    "def plot_roc_curve(y_test, p_pred):\n",
    "    positive_samples = sum(1 for y in y_test if y == 0)\n",
    "    tpr = []\n",
    "    fpr = []\n",
    "    for w in np.arange(-0.01, 1.02, 0.01):\n",
    "        y_pred = [(0 if p.get(0, 0) > w else 1) for p in p_pred]\n",
    "        tpr.append(sum(1 for yp, yt in zip(y_pred, y_test) if yp == 0 and yt == 0) / positive_samples)\n",
    "        fpr.append(sum(1 for yp, yt in zip(y_pred, y_test) if yp == 0 and yt != 0) / (len(y_test) - positive_samples))\n",
    "    plt.figure(figsize = (7, 7))\n",
    "    plt.plot(fpr, tpr)\n",
    "    plt.plot([0, 1], [0, 1], linestyle=\"--\")\n",
    "    plt.xlabel(\"False positive rate\")\n",
    "    plt.ylabel(\"True positive rate\")\n",
    "    plt.xlim(-0.01, 1.01)\n",
    "    plt.ylim(-0.01, 1.01)\n",
    "    plt.tight_layout()\n",
    "    plt.show()"
   ]
  },
  {
   "cell_type": "markdown",
   "metadata": {},
   "source": [
    "Часто хочется понимать, насколько большую роль играет тот или иной признак для предсказания класса объекта. Есть различные способы посчитать его важность. Один из простых способов сделать это для Random Forest выглядит так:\n",
    "1. Посчитать out-of-bag ошибку предсказания `err_oob` (https://en.wikipedia.org/wiki/Out-of-bag_error)\n",
    "2. Перемешать значения признака `j` у объектов выборки (у каждого из объектов изменится значение признака `j` на какой-то другой)\n",
    "3. Посчитать out-of-bag ошибку (`err_oob_j`) еще раз.\n",
    "4. Оценкой важности признака `j` для одного дерева будет разность `err_oob_j - err_oob`, важность для всего леса считается как среднее значение важности по деревьям.\n",
    "\n",
    "Реализуйте функцию `feature_importance`, которая принимает на вход Random Forest и возвращает массив, в котором содержится важность для каждого признака."
   ]
  },
  {
   "cell_type": "code",
   "execution_count": 153,
   "metadata": {},
   "outputs": [],
   "source": [
    "def oob_error(forest, X, y):\n",
    "    n_samples = len(X)\n",
    "    predictions = [[] for _ in range(n_samples)]\n",
    "    for tree in forest.trees:\n",
    "        for sample_i in tree.unseen_samples:\n",
    "            predictions[sample_i].append(tree.predict(np.expand_dims(X[sample_i], axis=0))[0])\n",
    "    return np.mean([np.abs((sum(prediction) / len(predictions) - y_i)) for prediction, y_i in zip(predictions, y)])\n",
    "\n",
    "\n",
    "def mix_vals(col):\n",
    "    unique = np.unique(col)\n",
    "    new_col = [unique[np.random.randint(0, len(unique))] for _ in range(len(col))]\n",
    "    return new_col"
   ]
  },
  {
   "cell_type": "code",
   "execution_count": 166,
   "metadata": {},
   "outputs": [],
   "source": [
    "def feature_importance(rfc, X, y):\n",
    "    oob_err = oob_error(rfc, X, y)\n",
    "    oob_err_j = []\n",
    "    dim1, dim2 = X.shape\n",
    "    for feature in range(dim2):\n",
    "        X_dot = X.copy().T\n",
    "        X_dot[feature] = mix_vals(X_dot[feature])\n",
    "        X_dot = X_dot.T\n",
    "        oob_err_j.append(oob_error(rfc, X_dot, y))\n",
    "    return oob_err_j - oob_err\n",
    "        \n",
    "\n",
    "def most_important_features(importance, names=None, k=20):\n",
    "    if names is None:\n",
    "        names = list(range(len(importance)))\n",
    "    idicies = np.argsort(importance)[::-1][:k]\n",
    "    return np.array(names)[idicies]"
   ]
  },
  {
   "cell_type": "markdown",
   "metadata": {},
   "source": [
    "Протестируйте решение на простом синтетическом наборе данных. В результате должна получиться точность `1.0`, наибольшее значение важности должно быть у признака с индексом `4`, признаки с индексами `2` и `3`  должны быть одинаково важны, а остальные признаки - не важны совсем."
   ]
  },
  {
   "cell_type": "code",
   "execution_count": 167,
   "metadata": {},
   "outputs": [
    {
     "name": "stdout",
     "output_type": "stream",
     "text": [
      "Accuracy: 1.0\n",
      "Oob: 0.998009\n",
      "Importance: [0.       0.       0.00026  0.000268 0.000294 0.      ]\n",
      "Most important: [4]\n"
     ]
    }
   ],
   "source": [
    "def synthetic_dataset(size):\n",
    "    X = [(np.random.randint(0, 2), np.random.randint(0, 2), i % 6 == 3, \n",
    "          i % 6 == 0, i % 3 == 2, np.random.randint(0, 2)) for i in range(size)]\n",
    "    y = [i % 3 for i in range(size)]\n",
    "    return np.array(X), np.array(y)\n",
    "\n",
    "X, y = synthetic_dataset(1000)\n",
    "rfc = RandomForestClassifier(n_estimators=10, drop_columns=False)\n",
    "rfc.fit(X, y)\n",
    "print(\"Accuracy:\", np.mean(rfc.predict(X) == y))\n",
    "print(\"Oob:\", oob_error(rfc, X, y))\n",
    "print(\"Importance:\", feature_importance(rfc, X, y)) \n",
    "print(\"Most important:\", most_important_features(feature_importance(rfc, X, y), k=1)) "
   ]
  },
  {
   "cell_type": "markdown",
   "metadata": {},
   "source": [
    "Проверьте, какие признаки важны для датасета spam? (Используйте файлы x_spam_train и y_spam_train)"
   ]
  },
  {
   "cell_type": "markdown",
   "metadata": {},
   "source": [
    "1. Обучите модель на всех данных из x_spam_train и y_spam_train.\n",
    "2. Сделайте submit своего решения и получите значение f1_score не менее 0.6"
   ]
  },
  {
   "cell_type": "code",
   "execution_count": 168,
   "metadata": {},
   "outputs": [],
   "source": [
    "data_folder = 'homework-decision-tree'\n",
    "\n",
    "X, y = pd.read_csv(f'./{data_folder}/x_spam_train.csv', index_col=False).drop('Id', axis=1), pd.read_csv(f'./{data_folder}/y_spam_train.csv', index_col=False).drop('Id', axis=1).values\n",
    "\n",
    "X = X.values  \n",
    "split_ratio = 0.9\n",
    "ds_size = len(X)\n",
    "assert len(y) == ds_size\n",
    "\n",
    "p = int(split_ratio * ds_size)\n",
    "X_train, y_train = X[:p], y[:p]\n",
    "X_val, y_val = X[p:], y[p:]"
   ]
  },
  {
   "cell_type": "code",
   "execution_count": 169,
   "metadata": {},
   "outputs": [
    {
     "name": "stdout",
     "output_type": "stream",
     "text": [
      "Most important: [ 6 45 24]\n"
     ]
    }
   ],
   "source": [
    "rfc = RandomForestClassifier(max_depth=10, n_estimators=10, criterion=\"gini\", drop_columns=False)\n",
    "rfc.fit(X_train, y_train)\n",
    "print(\"Most important:\", most_important_features(feature_importance(rfc, X_train, y_train), k=3)) "
   ]
  },
  {
   "cell_type": "code",
   "execution_count": 170,
   "metadata": {},
   "outputs": [
    {
     "name": "stdout",
     "output_type": "stream",
     "text": [
      "Accuracy: 0.5165406427221172, F-1: 0.8400000000000001\n"
     ]
    }
   ],
   "source": [
    "# Baseline\n",
    "tree = DecisionTreeClassifier(max_depth=6)\n",
    "tree.fit(X_train.tolist(), y_train.tolist())\n",
    "\n",
    "pred = tree.predict(X_val)\n",
    "print(f\"Accuracy: {np.mean(pred == y_val)}, F-1: {f1_score(y_val, pred)}\" )"
   ]
  },
  {
   "cell_type": "code",
   "execution_count": 171,
   "metadata": {},
   "outputs": [
    {
     "name": "stdout",
     "output_type": "stream",
     "text": [
      "Accuracy: 0.5181947069943289, F-1: 0.9054054054054054\n"
     ]
    }
   ],
   "source": [
    "forest = RandomForestClassifier(max_depth=10, n_estimators=100, criterion=\"gini\")\n",
    "forest.fit(X_train, y_train)\n",
    "pred = forest.predict(X_val)\n",
    "print(f\"Accuracy: {np.mean(pred == y_val)}, F-1: {f1_score(y_val, pred)}\" )"
   ]
  },
  {
   "cell_type": "code",
   "execution_count": 430,
   "metadata": {
    "pycharm": {
     "name": "#%%\n"
    }
   },
   "outputs": [],
   "source": [
    "X_test = pd.read_csv(f'./{data_folder}/x_spam_test.csv', index_col=False)\n",
    "\n",
    "submission = pd.DataFrame(columns = [\"Id\", \"Expected\"])\n",
    "submission[\"Id\"] = X_test[\"Id\"]\n",
    "\n",
    "X_test.drop('Id', axis=1, inplace=True)\n",
    "submission[\"Expected\"] = forest.predict(X_test.values)\n",
    "submission.to_csv('submission.csv', index=False)"
   ]
  },
  {
   "cell_type": "markdown",
   "metadata": {},
   "source": [
    "В качестве альтернативы попробуем библиотечные реализации ансамблей моделей. \n",
    "\n",
    "1. [CatBoost](https://catboost.ai/docs/)\n",
    "2. [XGBoost](https://xgboost.readthedocs.io/en/latest/)\n",
    "3. [LightGBM](https://lightgbm.readthedocs.io/en/latest/)\n"
   ]
  },
  {
   "cell_type": "markdown",
   "metadata": {},
   "source": [
    "Установите необходимые библиотеки. \n",
    "Возможно, потребуется установка дополнительных пакетов."
   ]
  },
  {
   "cell_type": "code",
   "execution_count": null,
   "metadata": {},
   "outputs": [],
   "source": [
    "!pip3 install lightgbm\n",
    "!pip3 install catboost\n",
    "!pip3 install xgboost"
   ]
  },
  {
   "cell_type": "markdown",
   "metadata": {},
   "source": [
    "1. Примените модели для нашего датасета.\n",
    "\n",
    "2. Для стандартного набора параметров у каждой модели нарисуйте `ROC` кривую и выведите `AUC` и `accuracy`.\n",
    "\n",
    "3. Посчитайте время обучения каждой модели (можно использовать [timeit magic](https://ipython.readthedocs.io/en/stable/interactive/magics.html#magic-timeit)).\n",
    "\n",
    "4. Сравните метрики качества и скорость обучения моделей. Какие выводы можно сделать?"
   ]
  },
  {
   "cell_type": "code",
   "execution_count": 38,
   "metadata": {},
   "outputs": [
    {
     "name": "stdout",
     "output_type": "stream",
     "text": [
      "Learning rate set to 0.5\n",
      "0:\tlearn: 0.3471699\ttotal: 3.44ms\tremaining: 13.8ms\n",
      "1:\tlearn: 0.2958508\ttotal: 6.89ms\tremaining: 10.3ms\n",
      "2:\tlearn: 0.2652729\ttotal: 9.39ms\tremaining: 6.26ms\n",
      "3:\tlearn: 0.2446272\ttotal: 12ms\tremaining: 2.99ms\n",
      "4:\tlearn: 0.2361664\ttotal: 14.8ms\tremaining: 0us\n"
     ]
    },
    {
     "data": {
      "image/png": "[encoded data removed]",
      "text/plain": [
       "<Figure size 504x504 with 1 Axes>"
      ]
     },
     "metadata": {
      "needs_background": "light"
     },
     "output_type": "display_data"
    }
   ],
   "source": [
    "from catboost import CatBoost, Pool\n",
    "\n",
    "train_pool = Pool(X_train, y_train)\n",
    "model = CatBoost({'iterations' : 5})\n",
    "model.fit(train_pool)\n",
    "\n",
    "p_preds = [{i : p for i, p in enumerate(probs)} for probs in model.predict(X_val, prediction_type='Probability')]\n",
    "plot_roc_curve(np.squeeze(y_val), p_preds)"
   ]
  },
  {
   "cell_type": "code",
   "execution_count": null,
   "metadata": {},
   "outputs": [],
   "source": [
    "import xgboost as xgb\n",
    "\n",
    "dtrain = xgb.DMatrix('demo/data/agaricus.txt.train')\n",
    "dtest = xgb.DMatrix('demo/data/agaricus.txt.test')"
   ]
  },
  {
   "cell_type": "markdown",
   "metadata": {},
   "source": [
    "_Ваш ответ_"
   ]
  }
 ],
 "metadata": {
  "kernelspec": {
   "display_name": "Python 3 (ipykernel)",
   "language": "python",
   "name": "python3"
  },
  "language_info": {
   "codemirror_mode": {
    "name": "ipython",
    "version": 3
   },
   "file_extension": ".py",
   "mimetype": "text/x-python",
   "name": "python",
   "nbconvert_exporter": "python",
   "pygments_lexer": "ipython3",
   "version": "3.9.7"
  }
 },
 "nbformat": 4,
 "nbformat_minor": 2
}
