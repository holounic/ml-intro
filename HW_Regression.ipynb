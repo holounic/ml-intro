{
 "cells": [
  {
   "cell_type": "markdown",
   "metadata": {},
   "source": [
    "# Линейная регрессия\n",
    "__Суммарное количество баллов: 10__\n"
   ]
  },
  {
   "cell_type": "code",
   "execution_count": 1,
   "metadata": {},
   "outputs": [],
   "source": [
    "from sklearn.datasets import make_blobs, make_moons\n",
    "from sklearn.model_selection import train_test_split\n",
    "import numpy as np\n",
    "import random\n",
    "import matplotlib.pyplot as plt\n",
    "import matplotlib\n",
    "import copy\n",
    "import os\n",
    "import pandas as pd\n",
    "\n",
    "np.random.seed(0)"
   ]
  },
  {
   "cell_type": "code",
   "execution_count": 2,
   "metadata": {},
   "outputs": [],
   "source": [
    "def generate_synthetic(size, dim=6, noise=0.1):\n",
    "    X = np.random.randn(size, dim)\n",
    "    w = np.random.randn(dim + 1)\n",
    "    noise = noise * np.random.randn(size)\n",
    "    y = X.dot(w[1:]) + w[0] + noise\n",
    "    return X, y"
   ]
  },
  {
   "cell_type": "markdown",
   "metadata": {},
   "source": [
    "#### Метрика\n",
    "Для начала нужно понять, какую метрику для ошибки будем использовать. В нашем случае нам подойдет стандартная метрика RMSE. Ее и нужно реализовать."
   ]
  },
  {
   "cell_type": "code",
   "execution_count": 78,
   "metadata": {},
   "outputs": [],
   "source": [
    "def mse(y_true, y_predicted):\n",
    "    return np.square(y_predicted - y_true).mean()\n",
    "    \n",
    "\n",
    "def rmse(y_true, y_predicted):\n",
    "    return np.sqrt(mse(y_true, y_predicted))"
   ]
  },
  {
   "cell_type": "markdown",
   "metadata": {},
   "source": [
    "\n",
    "Теперь реализуем линейную регрессию при помощи явного решения задачи минимизации. \n",
    "\n",
    "#### Методы\n",
    "`fit(X, y)` - решает задачу минимизации $\\arg\\min_{w, b}\\sum ((w\\cdot x + b) - y)^2$. \n",
    "\n",
    "`predict(X)` - строит предсказание `y` для объектов из `X`."
   ]
  },
  {
   "cell_type": "code",
   "execution_count": 4,
   "metadata": {},
   "outputs": [],
   "source": [
    "def plus_dim(X):\n",
    "    return np.hstack((X, np.ones((X.shape[0], 1))))"
   ]
  },
  {
   "cell_type": "code",
   "execution_count": 423,
   "metadata": {},
   "outputs": [],
   "source": [
    "class NormalLR:\n",
    "    def __init__(self, alpha=0.1):\n",
    "        self.alpha = alpha\n",
    "        self.w = None\n",
    "    \n",
    "    def fit(self, X, y):  # w = (X^TX)^-1X^Ty\n",
    "        X = plus_dim(X)\n",
    "        _, size = X.shape\n",
    "        self.w = np.matmul(\n",
    "            np.matmul(\n",
    "                np.linalg.inv(np.matmul(np.transpose(X), X) + self.alpha * np.identity(size)),\n",
    "                np.transpose(X)\n",
    "            ),\n",
    "            y\n",
    "        )\n",
    "    \n",
    "    def predict(self, X):\n",
    "        return np.matmul(plus_dim(X), self.w)"
   ]
  },
  {
   "cell_type": "code",
   "execution_count": null,
   "metadata": {},
   "outputs": [],
   "source": [
    "X, y = generate_synthetic(1024)\n",
    "X_train, X_test, y_train, y_test = train_test_split(X, y, train_size=0.8)"
   ]
  },
  {
   "cell_type": "code",
   "execution_count": 300,
   "metadata": {},
   "outputs": [
    {
     "name": "stdout",
     "output_type": "stream",
     "text": [
      "0.09390528005589237\n"
     ]
    }
   ],
   "source": [
    "regr = NormalLR()\n",
    "regr.fit(X_train, y_train)\n",
    "print(rmse(y_test, regr.predict(X_test)))"
   ]
  },
  {
   "cell_type": "markdown",
   "metadata": {},
   "source": [
    "\n",
    "Теперь реализуем линейную регрессию с использованием градиентного спуска с larning rate `alpha` в течении `iterations` итераций.\n",
    "\n",
    "#### Методы\n",
    "`fit(X, y)` - приближает решение задачи минимизации $\\arg\\min_{w, b}\\sum ((w\\cdot x + b) - y)^2$ при помощи градиентного спуска. \n",
    "\n",
    "\n",
    "`predict(X)` - строит предсказание `y` для объектов из `X`."
   ]
  },
  {
   "cell_type": "markdown",
   "metadata": {},
   "source": [
    "#### Lasso\n",
    "\n",
    "Добавьте в метод `fit` регуляризацию Лассо с коэффициентом `l`. Постройте график зависимости ошибки предсказания данных из синтетического набора данных от коэффициента регуляризации."
   ]
  },
  {
   "cell_type": "code",
   "execution_count": 343,
   "metadata": {},
   "outputs": [
    {
     "data": {
      "text/plain": [
       "array([20, 26])"
      ]
     },
     "execution_count": 343,
     "metadata": {},
     "output_type": "execute_result"
    }
   ],
   "source": [
    "np.matmul(np.array([1, 2, 3]), np.array([[1, 2], [2, 3], [5, 6]]))"
   ]
  },
  {
   "cell_type": "code",
   "execution_count": 394,
   "metadata": {},
   "outputs": [],
   "source": [
    "class GradientLR:\n",
    "    def __init__(self, alpha, iterations=10000, l=0., clip=1000):\n",
    "        self.alpha = alpha\n",
    "        self.iterations = iterations\n",
    "        self.l = l\n",
    "        self.clip = clip\n",
    "        \n",
    "    def opt(self, X, y, w): # derivative of mse + L1 is 1 / n * (XW - y)X_i + l|W_i|\n",
    "        n, _ = X.shape\n",
    "        grad = np.matmul(self.predict(X) - y, plus_dim(X)) / n + self.l * np.abs(self.w)\n",
    "        return np.clip(grad, -self.clip, self.clip)\n",
    "    \n",
    "    def fit(self, X, y):\n",
    "        n, size = X.shape\n",
    "        self.w = np.random.randn(size + 1)\n",
    "        self.cost = []\n",
    "        \n",
    "        for _ in range(self.iterations):\n",
    "            grad = self.opt(X, y, self.w)\n",
    "            self.w = self.w - self.alpha * grad\n",
    "    \n",
    "    def predict(self, X):\n",
    "        return np.matmul(plus_dim(X), self.w)"
   ]
  },
  {
   "cell_type": "code",
   "execution_count": 395,
   "metadata": {},
   "outputs": [],
   "source": [
    "def build_plot(X_train, y_train, X_test, y_test):\n",
    "    l = 1e-20\n",
    "    reg_iterations = 10000\n",
    "    errors, ls = [], []\n",
    "    \n",
    "    regr = GradientLR(0.1, iterations=reg_iterations, l=0.)\n",
    "    regr.fit(X_train, y_train)\n",
    "    errors.append(rmse(y_test, regr.predict(X_test)))\n",
    "    ls.append(l)\n",
    "    l *= 10\n",
    "        \n",
    "    while l < 1:\n",
    "        regr = GradientLR(0.1, iterations=reg_iterations, l=l)\n",
    "        regr.fit(X_train, y_train)\n",
    "        errors.append(rmse(y_test, regr.predict(X_test)))\n",
    "        ls.append(l)\n",
    "        l *= 10\n",
    "    \n",
    "    plt.plot(errors, ls)\n",
    "    plt.xlabel('error')\n",
    "    plt.ylabel('regularization coeff')\n",
    "    plt.show()"
   ]
  },
  {
   "cell_type": "code",
   "execution_count": 396,
   "metadata": {},
   "outputs": [],
   "source": [
    "X, y = generate_synthetic(1024)\n",
    "X_train, X_test, y_train, y_test = train_test_split(X, y, train_size=0.8)"
   ]
  },
  {
   "cell_type": "code",
   "execution_count": 397,
   "metadata": {},
   "outputs": [
    {
     "name": "stdout",
     "output_type": "stream",
     "text": [
      "0.10637300761984672\n"
     ]
    },
    {
     "data": {
      "image/png": "[encoded data removed]",
      "text/plain": [
       "<Figure size 432x288 with 1 Axes>"
      ]
     },
     "metadata": {
      "needs_background": "light"
     },
     "output_type": "display_data"
    }
   ],
   "source": [
    "regr = GradientLR(0.01, iterations=10000, l=0.0)\n",
    "regr.fit(X_train, y_train)\n",
    "print(rmse(y_test, regr.predict(X_test)))\n",
    "build_plot(X_train, y_train, X_test, y_test)"
   ]
  },
  {
   "cell_type": "markdown",
   "metadata": {},
   "source": [
    "1. Выполните загрузку и предобработку файлов x_boston_train и y_boston_train.\n",
    "2. Разбейте x_boston_train и y_boston_train на x_train, y_train, x_test и y_test для оценки точности работы алгоритма.\n",
    "3. Посчитайте метрику RMSE для моделей LR. Если необходимо, попробуйте разные наборы параметров для получения лучшего результата.\n",
    "4. Постройте график зависимости ошибки от коэффициента регуляризации. "
   ]
  },
  {
   "cell_type": "code",
   "execution_count": 301,
   "metadata": {},
   "outputs": [],
   "source": [
    "def read_data():\n",
    "    folder = './homework-linear-regression/'\n",
    "    common = '_boston_train.csv'\n",
    "    X_file, y_file = folder + 'x' + common, folder + 'y' + common\n",
    "    return pd.read_csv(X_file).drop('Id', axis=1).values, np.squeeze(pd.read_csv(y_file).drop('Id', axis=1).values)"
   ]
  },
  {
   "cell_type": "code",
   "execution_count": 426,
   "metadata": {},
   "outputs": [],
   "source": [
    "X, y = read_data()\n",
    "X_train, X_test, y_train, y_test = train_test_split(X, y, train_size=.99, shuffle=False)"
   ]
  },
  {
   "cell_type": "code",
   "execution_count": 424,
   "metadata": {},
   "outputs": [
    {
     "name": "stdout",
     "output_type": "stream",
     "text": [
      "4410.205769421153\n"
     ]
    }
   ],
   "source": [
    "regr_normal = NormalLR()\n",
    "regr_normal.fit(X_train, y_train)\n",
    "print(rmse(y_test, regr_normal.predict(X_test)))"
   ]
  },
  {
   "cell_type": "code",
   "execution_count": 427,
   "metadata": {},
   "outputs": [],
   "source": [
    "regr_grad = GradientLR(0.00003, iterations=100000, l=0.0, clip=2300)\n",
    "regr_grad.fit(X_train, y_train)\n",
    "# print(rmse(y_test, regr_grad.predict(X_test)))"
   ]
  },
  {
   "cell_type": "markdown",
   "metadata": {},
   "source": [
    "Обучите модель на всех данных из x_boston_train и y_boston_train.\n",
    "Сделайте submit своего решения и получите значение RMSE_score не более 5000"
   ]
  },
  {
   "cell_type": "code",
   "execution_count": 428,
   "metadata": {},
   "outputs": [],
   "source": [
    "test = pd.read_csv('./homework-linear-regression/X_boston_test.csv')\n",
    "\n",
    "submission = pd.DataFrame(columns = [\"Id\", \"Expected\"])\n",
    "submission[\"Id\"] = test[\"Id\"]\n",
    "submission[\"Expected\"] = regr_grad.predict(test.drop('Id', axis=1).values)\n",
    "submission.to_csv('submission.csv', index=False)"
   ]
  },
  {
   "cell_type": "code",
   "execution_count": null,
   "metadata": {},
   "outputs": [],
   "source": []
  }
 ],
 "metadata": {
  "kernelspec": {
   "display_name": "Python 3 (ipykernel)",
   "language": "python",
   "name": "python3"
  },
  "language_info": {
   "codemirror_mode": {
    "name": "ipython",
    "version": 3
   },
   "file_extension": ".py",
   "mimetype": "text/x-python",
   "name": "python",
   "nbconvert_exporter": "python",
   "pygments_lexer": "ipython3",
   "version": "3.9.7"
  }
 },
 "nbformat": 4,
 "nbformat_minor": 2
}
